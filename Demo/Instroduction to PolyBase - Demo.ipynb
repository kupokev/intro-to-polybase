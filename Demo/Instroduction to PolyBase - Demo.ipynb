{
    "metadata": {
        "kernelspec": {
            "name": "SQL",
            "display_name": "SQL",
            "language": "sql"
        },
        "language_info": {
            "name": "sql",
            "version": ""
        }
    },
    "nbformat_minor": 2,
    "nbformat": 4,
    "cells": [
        {
            "cell_type": "markdown",
            "source": [
                "# Enable PolyBase\r\n",
                "PolyBase must be enabled on each database that it is going to be used from.\r\n",
                ""
            ],
            "metadata": {
                "azdata_cell_guid": "4d3f6cef-b4cd-4d98-a5f7-dc48418db106"
            }
        },
        {
            "cell_type": "code",
            "source": [
                "exec sp_configure @configname = 'polybase enabled', @configvalue = 1;\r\n",
                "RECONFIGURE;"
            ],
            "metadata": {
                "azdata_cell_guid": "440976ee-6d54-40b7-8212-0a444bfdb87b"
            },
            "outputs": [
                {
                    "output_type": "display_data",
                    "data": {
                        "text/html": "Configuration option 'polybase enabled' changed from 0 to 1. Run the RECONFIGURE statement to install."
                    },
                    "metadata": {}
                },
                {
                    "output_type": "display_data",
                    "data": {
                        "text/html": "Total execution time: 00:00:00.049"
                    },
                    "metadata": {}
                }
            ],
            "execution_count": 1
        },
        {
            "cell_type": "markdown",
            "source": [
                "Check to see if PolyBase is installed and running."
            ],
            "metadata": {
                "azdata_cell_guid": "6857bd21-8bc7-410b-a524-989d13738fbf"
            }
        },
        {
            "cell_type": "code",
            "source": [
                "SELECT SERVERPROPERTY ('IsPolyBaseInstalled') AS IsPolyBaseInstalled;  "
            ],
            "metadata": {
                "azdata_cell_guid": "e4a09353-cb2e-4502-98c1-3a582bd87568"
            },
            "outputs": [
                {
                    "output_type": "display_data",
                    "data": {
                        "text/html": "(1 row affected)"
                    },
                    "metadata": {}
                },
                {
                    "output_type": "display_data",
                    "data": {
                        "text/html": "Total execution time: 00:00:00.083"
                    },
                    "metadata": {}
                },
                {
                    "output_type": "execute_result",
                    "metadata": {},
                    "execution_count": 2,
                    "data": {
                        "application/vnd.dataresource+json": {
                            "schema": {
                                "fields": [
                                    {
                                        "name": "IsPolyBaseInstalled"
                                    }
                                ]
                            },
                            "data": [
                                {
                                    "0": "1"
                                }
                            ]
                        },
                        "text/html": [
                            "<table>",
                            "<tr><th>IsPolyBaseInstalled</th></tr>",
                            "<tr><td>1</td></tr>",
                            "</table>"
                        ]
                    }
                }
            ],
            "execution_count": 2
        },
        {
            "cell_type": "markdown",
            "source": [
                "## Master Key  \n",
                "\n",
                "The first thing you have to do to setup PolyBase is to create a master key. The master key is created on a per database basis. It is recommended that you use a different master key for each database."
            ],
            "metadata": {
                "azdata_cell_guid": "7bb6fbd5-c0af-41b2-bb1a-efcbb6039e13"
            }
        },
        {
            "cell_type": "code",
            "source": [
                "CREATE MASTER KEY ENCRYPTION BY PASSWORD = 'abcdefg123456!@#';\r\n",
                "GO"
            ],
            "metadata": {
                "azdata_cell_guid": "2f001b78-4133-46b4-8fc5-34d371499182"
            },
            "outputs": [
                {
                    "output_type": "display_data",
                    "data": {
                        "text/html": "Commands completed successfully."
                    },
                    "metadata": {}
                },
                {
                    "output_type": "display_data",
                    "data": {
                        "text/html": "Total execution time: 00:00:01.517"
                    },
                    "metadata": {}
                }
            ],
            "execution_count": 3
        },
        {
            "cell_type": "markdown",
            "source": [
                "## Scoped Credentials\n",
                "\n",
                "In order for PolyBase to access an external database that requires authentication, a user will need to be set up in the external database. Typically the user only needs read level access. There are some data sources where PolyBase can be used to write as well, but in general PolyBase is only used for reading data.\n",
                "\n",
                "  \n",
                "\n",
                "Once the user is created in the external system, you will need to create database scoped credentials using that information."
            ],
            "metadata": {
                "azdata_cell_guid": "5bac433b-ad45-4493-a3f2-6c37d02cfad3"
            }
        },
        {
            "cell_type": "code",
            "source": [
                "CREATE DATABASE SCOPED CREDENTIAL AwUser WITH IDENTITY = 'aw_user', SECRET = 'Password123!';\r\n",
                "GO\r\n",
                "\r\n",
                "-- Azure Data Lake Store\r\n",
                "--CREATE DATABASE SCOPED CREDENTIAL ADL_User WITH IDENTITY = '<client_id>@\\<OAuth_2.0_Token_EndPoint>', SECRET = '<key>';\r\n",
                "--GO"
            ],
            "metadata": {
                "azdata_cell_guid": "2b2b167f-5b9f-48ad-a8d4-0952b7b2456b"
            },
            "outputs": [
                {
                    "output_type": "display_data",
                    "data": {
                        "text/html": "Commands completed successfully."
                    },
                    "metadata": {}
                },
                {
                    "output_type": "display_data",
                    "data": {
                        "text/html": "Commands completed successfully."
                    },
                    "metadata": {}
                },
                {
                    "output_type": "display_data",
                    "data": {
                        "text/html": "Total execution time: 00:00:00.022"
                    },
                    "metadata": {}
                }
            ],
            "execution_count": 4
        },
        {
            "cell_type": "markdown",
            "source": [
                "## External Data Source\n",
                "\n",
                "We will use our scoped credentials to create an external data source. The external data source in SQL Server stores the metadata about the external data source such as what type of data source it is and what credentials to use to connect to it if any are required."
            ],
            "metadata": {
                "azdata_cell_guid": "8cc2ead1-98ba-48cb-8501-6885417d8f66"
            }
        },
        {
            "cell_type": "markdown",
            "source": [
                "### SQL Server\r\n",
                "\r\n",
                "#### Default Instance\r\n",
                ""
            ],
            "metadata": {
                "azdata_cell_guid": "4254d452-3d7f-4fd1-b398-b82b14f82188"
            }
        },
        {
            "cell_type": "code",
            "source": [
                "CREATE EXTERNAL DATA SOURCE [AdvWrksDB]\r\n",
                "WITH (\r\n",
                "    LOCATION = N'sqlserver://localhost', \r\n",
                "    PUSHDOWN = ON, -- On by default\r\n",
                "    CREDENTIAL = [AwUser]\r\n",
                ");"
            ],
            "metadata": {
                "azdata_cell_guid": "d93e20ea-350f-4290-9e6d-5f419269bb5a"
            },
            "outputs": [
{
    "output_type": "display_data",
    "data": {
        "text/html": "OLE DB provider \"MSOLEDBSQL\" for linked server \"(null)\" returned message \"Login timeout expired\"."
    },
    "metadata": {}
}, {
    "output_type": "display_data",
    "data": {
        "text/html": "OLE DB provider \"MSOLEDBSQL\" for linked server \"(null)\" returned message \"A network-related or instance-specific error has occurred while establishing a connection to SQL Server. Server is not found or not accessible. Check if instance name is correct and if SQL Server is configured to allow remote connections. For more information see SQL Server Books Online.\"."
    },
    "metadata": {}
}, {
    "output_type": "error",
    "evalue": "Msg 10061, Level 16, State 1, Line 0\r\nTCP Provider: No connection could be made because the target machine actively refused it.\r\n",
    "ename": "",
    "traceback": []
}, {
    "output_type": "display_data",
    "data": {
        "text/html": "Query was canceled by user"
    },
    "metadata": {}
}, {
    "output_type": "display_data",
    "data": {
        "text/html": "Total execution time: 00:01:00.696"
    },
    "metadata": {}
}
],
            "execution_count": null
        },
        {
            "cell_type": "markdown",
            "source": [
                "## External Tables\r\n",
                "\r\n",
                "### SQL Server\r\n",
                ""
            ],
            "metadata": {
                "azdata_cell_guid": "82ab1deb-fed8-4458-9d39-2eb1f57667b3"
            }
        },
        {
            "cell_type": "code",
            "source": [
                "CREATE EXTERNAL TABLE [dbo].[local_table]\r\n",
                "(\r\n",
                "    [table_id] INT\r\n",
                ")\r\n",
                "WITH (\r\n",
                "    LOCATION = N'[AdventureWorks2019].[Sales].[SalesOrderDetail]', \r\n",
                "    DATA_SOURCE = [AdvWrksDB]\r\n",
                ");\n",
                "\n",
                "CREATE EXTERNAL TABLE [local_schema].[local_table]\n",
                "(\n",
                "    [table_id] INT\n",
                ")\n",
                "WITH (\n",
                "    LOCATION = N'[AdventureWorks2019].[Sales].[SalesOrderDetail]', \n",
                "    DATA_SOURCE = [AdvWrksDB]\n",
                ");"
            ],
            "metadata": {
                "azdata_cell_guid": "48edc1fb-b08d-44b3-ad2e-8d4aae3756c0"
            },
            "outputs": [],
            "execution_count": null
        },
        {
            "cell_type": "markdown",
            "source": [
                "## Statistics\n",
                "\n",
                "Statistics are used to help SQL server be able to query remote systems better through PolyBase. In most simple terms statistics builds a SQL Server side catalog of information about the remote table. Usually you will create statistics on the index columns of tables you are querying so that SQL Server can store informaiton locally about that index column. I have seen some situations where this has dramatically increased the performance of External Table Queries, and other times it doesn't have a noticeable effect.\n",
                "\n",
                "When creating statistics, you have to use the WITH FULLSCAN option."
            ],
            "metadata": {
                "azdata_cell_guid": "85cd2c5d-dc2c-468f-b4a5-48fcdededf40"
            }
        },
        {
            "cell_type": "code",
            "source": [
                "CREATE STATISTICS statistics_name ON [schema].[table] (field_name) WITH FULLSCAN;\r\n",
                "GO"
            ],
            "metadata": {
                "azdata_cell_guid": "b133dc70-4ea7-4b42-8097-b8429bb70cf7"
            },
            "outputs": [],
            "execution_count": null
        }
    ]
}