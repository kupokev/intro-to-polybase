{
    "metadata": {
        "kernelspec": {
            "name": "SQL",
            "display_name": "SQL",
            "language": "sql"
        },
        "language_info": {
            "name": "sql",
            "version": ""
        }
    },
    "nbformat_minor": 2,
    "nbformat": 4,
    "cells": [
        {
            "cell_type": "markdown",
            "source": [
                "# Enable PolyBase\r\n",
                "PolyBase must be enabled on each database that it is going to be used from.\r\n",
                ""
            ],
            "metadata": {
                "azdata_cell_guid": "4d3f6cef-b4cd-4d98-a5f7-dc48418db106"
            }
        },
        {
            "cell_type": "code",
            "source": [
                "exec sp_configure @configname = 'polybase enabled', @configvalue = 1;\r\n",
                "RECONFIGURE;"
            ],
            "metadata": {
                "azdata_cell_guid": "440976ee-6d54-40b7-8212-0a444bfdb87b"
            },
            "outputs": [],
            "execution_count": null
        },
        {
            "cell_type": "markdown",
            "source": [
                "Check to see if PolyBase is installed and running."
            ],
            "metadata": {
                "azdata_cell_guid": "6857bd21-8bc7-410b-a524-989d13738fbf"
            }
        },
        {
            "cell_type": "code",
            "source": [
                "SELECT SERVERPROPERTY ('IsPolyBaseInstalled') AS IsPolyBaseInstalled;  "
            ],
            "metadata": {
                "azdata_cell_guid": "e4a09353-cb2e-4502-98c1-3a582bd87568"
            },
            "outputs": [],
            "execution_count": null
        },
        {
            "cell_type": "markdown",
            "source": [
                "## Master Key  \n",
                "\n",
                "The first thing you have to do to setup PolyBase is to create a master key. The master key is created on a per database basis. It is recommended that you use a different master key for each database."
            ],
            "metadata": {
                "azdata_cell_guid": "7bb6fbd5-c0af-41b2-bb1a-efcbb6039e13"
            }
        },
        {
            "cell_type": "code",
            "source": [
                "CREATE MASTER KEY ENCRYPTION BY PASSWORD = 'abcdefg123456!@#';\r\n",
                "GO"
            ],
            "metadata": {
                "azdata_cell_guid": "2f001b78-4133-46b4-8fc5-34d371499182"
            },
            "outputs": [],
            "execution_count": null
        },
        {
            "cell_type": "markdown",
            "source": [
                "In the event you need to restore the database to a different server, you will need to reset the master key. You can do that by using the following."
            ],
            "metadata": {
                "azdata_cell_guid": "af422aa0-3eea-4699-802b-fe42cf6717eb"
            }
        },
        {
            "cell_type": "code",
            "source": [
                "OPEN MASTER KEY DECRYPTION BY PASSWORD = 'abcdefg123456!@#';\r\n",
                "GO\r\n",
                "\r\n",
                "ALTER MASTER KEY REGENERATE WITH ENCRYPTION BY PASSWORD = 'abcdefg123456!@#';\r\n",
                "GO"
            ],
            "metadata": {
                "azdata_cell_guid": "2110adfd-4cdd-4cd0-a178-94a83082f8eb"
            },
            "outputs": [],
            "execution_count": null
        },
        {
            "cell_type": "markdown",
            "source": [
                "## Scoped Credentials\n",
                "\n",
                "In order for PolyBase to access an external database that requires authentication, a user will need to be set up in the external database. Typically the user only needs read level access. There are some data sources where PolyBase can be used to write as well, but in general PolyBase is only used for reading data.\n",
                "\n",
                "  \n",
                "\n",
                "Once the user is created in the external system, you will need to create database scoped credentials using that information."
            ],
            "metadata": {
                "azdata_cell_guid": "5bac433b-ad45-4493-a3f2-6c37d02cfad3"
            }
        },
        {
            "cell_type": "code",
            "source": [
                "CREATE DATABASE SCOPED CREDENTIAL ExtCredName WITH IDENTITY = 'ExternalUser', SECRET = 'ExternalPassword';\r\n",
                "GO\r\n",
                "\r\n",
                "-- Azure Data Lake Store\r\n",
                "--CREATE DATABASE SCOPED CREDENTIAL ADL_User WITH IDENTITY = '<client_id>@\\<OAuth_2.0_Token_EndPoint>', SECRET = '<key>';\r\n",
                "--GO"
            ],
            "metadata": {
                "azdata_cell_guid": "2b2b167f-5b9f-48ad-a8d4-0952b7b2456b"
            },
            "outputs": [],
            "execution_count": null
        },
        {
            "cell_type": "markdown",
            "source": [
                "In the event you need to update a scoped credentials due to password reset or some other change in credentials, you can run the following code to update the scoped credentials."
            ],
            "metadata": {
                "azdata_cell_guid": "73f7f439-af93-43ef-a80a-4501743e84f4"
            }
        },
        {
            "cell_type": "code",
            "source": [
                "ALTER DATABASE SCOPED CREDENTIAL QpUser WITH IDENTITY = 'ExternalUser', SECRET = 'newPassword';\n",
                "GO"
            ],
            "metadata": {
                "azdata_cell_guid": "c7dadf86-8e92-433e-bc89-7ea87581578b"
            },
            "outputs": [],
            "execution_count": null
        },
        {
            "cell_type": "markdown",
            "source": [
                "## External Data Source\r\n",
                "\r\n",
                "We will use our scoped credentials to create an external data source. The external data source in SQL Server stores the metadata about the external data source such as what type of data source it is and what credentials to use to connect to it if any are required.\r\n",
                "\r\n",
                "--- \r\n",
                "\r\n",
                "### Location\r\n",
                "\r\n",
                "#### AzureStorage\r\n",
                "\r\n",
                "> LOCATION = 'wasbs://@.blob.core.windows.net'\r\n",
                "\r\n",
                "#### Hadoop - HDFS\r\n",
                "\r\n",
                "> LOCATION = 'hdfs://10.xxx.xx.xxx:xxxx'\r\n",
                "\r\n",
                "#### MongoDB\r\n",
                "\r\n",
                "> LOCATION = N'mongodb://[:]\r\n",
                "\r\n",
                "#### ODBC\r\n",
                "\r\n",
                "> LOCATION = N'odbc://localhost' -- Standard ODBC  \r\n",
                "> LOCATION = N'odbc://server.domain.local:port#' -- ODBC connection to SAP HANA\r\n",
                "\r\n",
                "Usually requires extra CONNECTION_OPTIONS.\r\n",
                "\r\n",
                "If connecting to SAP HANA for example you will need the following\r\n",
                "> CONNECTION_OPTIONS = 'Driver={HDBODBC}; ServerNode = server.domain.local:port#; '.\r\n",
                "\r\n",
                "For connecting to an ODBC source that has a DSN and no credentials you can use something like\r\n",
                "> CONNECTION_OPTIONS = 'DSN=LocalCSV' -- or   \r\n",
                "> CONNECTION_OPTIONS = 'Driver=Microsoft Access Text Driver (*.txt, *.csv);Dbq=F:\\data\\files'.\r\n",
                "\r\n",
                "#### Oracle\r\n",
                "\r\n",
                "> LOCATION = N'oracle://[:]'\r\n",
                "\r\n",
                "#### SQL Server\r\n",
                "\r\n",
                "> LOCATION = N'sqlserver://SqlServer'  \r\n",
                "> LOCATION = N'sqlserver://db.be123456789.prod.datalake.servername.com:3657' -- AWS instance\r\n",
                "\r\n",
                "When connecting to a named instance, you will additionally need to add the following connection options.\r\n",
                "\r\n",
                "> CONNECTION_OPTIONS = 'Server=%s\\InstanceName;UseDefaultEncryptionOptions=false'\r\n",
                "\r\n",
                "#### Teradata\r\n",
                "> LOCATION = teradata://<server address>[:<port>]\r\n",
                "\r\n",
                "--- \r\n",
                "\r\n",
                "### Pushdown\r\n",
                "\r\n",
                "Pushdown is a setting that tells PolyBase whether to push the filtering criteria to the data source or not.\r\n",
                "\r\n",
                "When Pushdown is on, it will in most cases perform the filtering at the data source. There are certain situations where Pushdown does not work.\r\n",
                "\r\n",
                "When Pushdown is off, PolyBase streams the data before any filtering is performed.\r\n",
                "\r\n",
                "An example would be if you have a table that contains 300,000 rows and your query filters it down to 50,000 rows. With Pushdown on, most of the time PolyBase will filter the data at the source and only stream the 50,000 rows. With Pushdown off, PolyBase will stream all 300,000 rows before applying the filters to filter your results down to 50,000.\r\n",
                "\r\n",
                "--- \r\n",
                "\r\n",
                "### Credential\r\n",
                "\r\n",
                "This is the scoped credentials you created above for the data source."
            ],
            "metadata": {
                "azdata_cell_guid": "8cc2ead1-98ba-48cb-8501-6885417d8f66"
            }
        },
        {
            "cell_type": "markdown",
            "source": [
                "### ProvideX (ODBC)\r\n",
                "\r\n",
                "Requires install of MAS 90 4.0 ODBC Driver. A ODBC (64-bit) User or System DSN named SOTAMAS90 must be created using the driver."
            ],
            "metadata": {
                "azdata_cell_guid": "8df9179c-4659-4a53-9e3f-74102a398ddc"
            }
        },
        {
            "cell_type": "code",
            "source": [
                "CREATE EXTERNAL DATA SOURCE [DataSourceName]\r\n",
                "WITH\r\n",
                "( \r\n",
                "\tLOCATION = 'odbc://localhost',\r\n",
                "    CONNECTION_OPTIONS = 'Driver={MAS 90 4.0 ODBC Driver};DSN=SOTAMAS90',\r\n",
                "    CREDENTIAL = [ExtCredName],\r\n",
                "    PUSHDOWN = OFF\r\n",
                ");"
            ],
            "metadata": {
                "azdata_cell_guid": "10c35ab4-2e05-46bd-9178-e8efe3917fd0"
            },
            "outputs": [],
            "execution_count": null
        },
        {
            "cell_type": "markdown",
            "source": [
                "### SQL Anywhere\r\n",
                "\r\n",
                "Requires install of SQL Anywhere 17 ODBC driver."
            ],
            "metadata": {
                "azdata_cell_guid": "2920d12f-af58-4f6f-b210-4f5ef1f517d5"
            }
        },
        {
            "cell_type": "code",
            "source": [
                "CREATE EXTERNAL DATA SOURCE [DataSourceName] \r\n",
                "WITH (\r\n",
                "    LOCATION = N'odbc://HostServer',\r\n",
                "    CONNECTION_OPTIONS = 'DRIVER={SQL Anywhere 17};\r\n",
                "        Host=HostServer; \r\n",
                "        Provider =''SAOLEDB.17'';\r\n",
                "        ServerName=DbServer;\r\n",
                "        DatabaseName=database;',\r\n",
                "    CREDENTIAL = [ExtCredName],\r\n",
                "\tPUSHDOWN = OFF\r\n",
                ");\r\n",
                "\r\n",
                "-- HostServer: Virtual Server\r\n",
                "-- DbServer: Named instance of the database server"
            ],
            "metadata": {
                "azdata_cell_guid": "b81bf820-2c0f-4bf6-9b7c-7e8c34d3bb42"
            },
            "outputs": [],
            "execution_count": null
        },
        {
            "cell_type": "markdown",
            "source": [
                "### SQL Server\r\n",
                "\r\n",
                "#### Default Instance\r\n",
                ""
            ],
            "metadata": {
                "azdata_cell_guid": "4254d452-3d7f-4fd1-b398-b82b14f82188"
            }
        },
        {
            "cell_type": "code",
            "source": [
                "CREATE EXTERNAL DATA SOURCE [DataSourceName]\r\n",
                "WITH (\r\n",
                "    LOCATION = N'sqlserver://SQLSERVERNAME', \r\n",
                "    PUSHDOWN = ON, -- On by default\r\n",
                "    CREDENTIAL = [ExtCredName]\r\n",
                ");"
            ],
            "metadata": {
                "azdata_cell_guid": "d93e20ea-350f-4290-9e6d-5f419269bb5a"
            },
            "outputs": [],
            "execution_count": null
        },
        {
            "cell_type": "markdown",
            "source": [
                "#### Named Instance\r\n",
                ""
            ],
            "metadata": {
                "azdata_cell_guid": "f2554fc4-c932-4c37-bd93-765d44bf1357"
            }
        },
        {
            "cell_type": "code",
            "source": [
                "CREATE EXTERNAL DATA SOURCE [DataSourceName]\r\n",
                "WITH (\r\n",
                "    LOCATION = N'sqlserver://SQLSERVERNAME', \r\n",
                "    PUSHDOWN = ON, -- On by default\r\n",
                "    CREDENTIAL = [ExtCredName],\r\n",
                "    CONNECTION_OPTIONS = 'Server=%s\\InstanceName;UseDefaultEncryptionOptions=false'\r\n",
                ");"
            ],
            "metadata": {
                "azdata_cell_guid": "ed0af3ea-7e79-40de-8211-5aa1496dc87d"
            },
            "outputs": [],
            "execution_count": null
        },
        {
            "cell_type": "markdown",
            "source": [
                "### SAP HANA (ODBC)"
            ],
            "metadata": {
                "azdata_cell_guid": "c4682aa1-844b-4078-8783-b0aa9a38279d"
            }
        },
        {
            "cell_type": "code",
            "source": [
                "CREATE EXTERNAL DATA SOURCE [SapHana]\r\n",
                "WITH (\r\n",
                "    LOCATION = N'odbc://server.domain.local:port#', \r\n",
                "\tCONNECTION_OPTIONS = 'Driver={HDBODBC}; ServerNode = server.domain.local:port#; ',\r\n",
                "\tPUSHDOWN = ON,\r\n",
                "    CREDENTIAL = [ExtCredName]\r\n",
                ");"
            ],
            "metadata": {
                "azdata_cell_guid": "0f97ea8b-1bd2-4b6c-a3c9-ce5d85f084b5"
            },
            "outputs": [],
            "execution_count": null
        },
        {
            "cell_type": "markdown",
            "source": [
                "## External Tables\r\n",
                ""
            ],
            "metadata": {
                "azdata_cell_guid": "82ab1deb-fed8-4458-9d39-2eb1f57667b3"
            }
        },
        {
            "cell_type": "markdown",
            "source": [
                "### ProvideX (ODBC)\n",
                "\n",
                "File based database engine"
            ],
            "metadata": {
                "azdata_cell_guid": "7152057c-111c-4758-b7b3-5946fb7fc107"
            }
        },
        {
            "cell_type": "code",
            "source": [
                "CREATE EXTERNAL TABLE [local_schema].[local_table]\r\n",
                "( \r\n",
                "\t[table_id] int\r\n",
                ")\r\n",
                "WITH (\r\n",
                "\tLOCATION = 'FileName', --Table/Filename\r\n",
                "\tDATA_SOURCE = [DataSourceName]\r\n",
                ");"
            ],
            "metadata": {
                "azdata_cell_guid": "dd5fadc3-7af0-4fe2-b8bf-c0bb9df366ee"
            },
            "outputs": [],
            "execution_count": null
        },
        {
            "cell_type": "markdown",
            "source": [
                "### SQL Anywhere"
            ],
            "metadata": {
                "azdata_cell_guid": "658816b2-3448-4cef-9353-ae466f10ce5b"
            }
        },
        {
            "cell_type": "code",
            "source": [
                "CREATE EXTERNAL TABLE [local_schema].[local_table]\r\n",
                "(\r\n",
                "\t[table_id] INT\r\n",
                ")\r\n",
                "WITH\r\n",
                "(\r\n",
                "\tLOCATION = '[database].[schema].[table]',\r\n",
                "    DATA_SOURCE = [DataSourceName]\r\n",
                ");\r\n",
                ""
            ],
            "metadata": {
                "azdata_cell_guid": "cd246052-eef2-4974-8a36-d0986f844350"
            },
            "outputs": [],
            "execution_count": null
        },
        {
            "cell_type": "markdown",
            "source": [
                "### SQL Server"
            ],
            "metadata": {
                "azdata_cell_guid": "35aa7ac6-7403-4472-9c62-cfcde5476fbc"
            }
        },
        {
            "cell_type": "code",
            "source": [
                "CREATE EXTERNAL TABLE [local_schema].[local_table]\r\n",
                "(\r\n",
                "    [table_id] INT\r\n",
                ")\r\n",
                "WITH (\r\n",
                "    LOCATION = N'[database].[schema].[table]', \r\n",
                "    DATA_SOURCE = [DataSourceName]\r\n",
                ");"
            ],
            "metadata": {
                "azdata_cell_guid": "48edc1fb-b08d-44b3-ad2e-8d4aae3756c0"
            },
            "outputs": [],
            "execution_count": null
        },
        {
            "cell_type": "markdown",
            "source": [
                "### SAP HANA\r\n",
                ""
            ],
            "metadata": {
                "azdata_cell_guid": "a84ef88b-2f19-44c8-9d4b-917cd07f562d"
            }
        },
        {
            "cell_type": "code",
            "source": [
                "CREATE EXTERNAL TABLE [sap].[Customer]\r\n",
                "(\r\n",
                "    [table_id] INT\r\n",
                ")\r\n",
                "WITH (\r\n",
                "    LOCATION = N'\"database\".\"schema.TableName\"', \r\n",
                "    DATA_SOURCE = [SapHana]\r\n",
                ");"
            ],
            "metadata": {
                "azdata_cell_guid": "13bba36f-faea-4312-bcb3-f1679cc84289"
            },
            "outputs": [],
            "execution_count": null
        },
        {
            "cell_type": "markdown",
            "source": [
                "## Statistics\n",
                "\n",
                "Statistics are used to help SQL server be able to query remote systems better through PolyBase. In most simple terms statistics builds a SQL Server side catalog of information about the remote table. Usually you will create statistics on the index columns of tables you are querying so that SQL Server can store informaiton locally about that index column. This dramatically increases the performance of External Table Queries."
            ],
            "metadata": {
                "azdata_cell_guid": "85cd2c5d-dc2c-468f-b4a5-48fcdededf40"
            }
        },
        {
            "cell_type": "code",
            "source": [
                "CREATE STATISTICS statistics_name ON [schema].[table] (field_name) WITH FULLSCAN;\r\n",
                "GO"
            ],
            "metadata": {
                "azdata_cell_guid": "b133dc70-4ea7-4b42-8097-b8429bb70cf7"
            },
            "outputs": [],
            "execution_count": null
        }
    ]
}